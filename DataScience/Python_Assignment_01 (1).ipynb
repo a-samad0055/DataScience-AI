{
  "cells": [
    {
      "cell_type": "markdown",
      "id": "e72091ba-8a85-4156-ae83-32354f8e8949",
      "metadata": {
        "id": "e72091ba-8a85-4156-ae83-32354f8e8949"
      },
      "source": [
        "# Task 1"
      ]
    },
    {
      "cell_type": "code",
      "execution_count": null,
      "id": "1f6f87ba-d564-4c08-bd4d-25cbae10d250",
      "metadata": {
        "id": "1f6f87ba-d564-4c08-bd4d-25cbae10d250"
      },
      "outputs": [],
      "source": [
        "age=20\n",
        "name='abdul'\n",
        "student=True"
      ]
    },
    {
      "cell_type": "code",
      "execution_count": null,
      "id": "e984b9c9",
      "metadata": {
        "id": "e984b9c9"
      },
      "outputs": [],
      "source": [
        "age=25+age"
      ]
    },
    {
      "cell_type": "code",
      "execution_count": null,
      "id": "1d27d185",
      "metadata": {
        "id": "1d27d185"
      },
      "outputs": [],
      "source": [
        "name = name +' Smith'"
      ]
    },
    {
      "cell_type": "code",
      "execution_count": null,
      "id": "88de1e08",
      "metadata": {
        "id": "88de1e08"
      },
      "outputs": [],
      "source": [
        "student =False"
      ]
    },
    {
      "cell_type": "code",
      "execution_count": null,
      "id": "1d6c0cf0",
      "metadata": {
        "id": "1d6c0cf0",
        "outputId": "d1b7529e-305c-4c73-e473-d2d41bea1cea"
      },
      "outputs": [
        {
          "name": "stdout",
          "output_type": "stream",
          "text": [
            "45 abdul Smith False\n"
          ]
        }
      ],
      "source": [
        "print(age, name, student)"
      ]
    },
    {
      "cell_type": "markdown",
      "id": "28cf81aa-6278-479a-b55d-5ee222607f19",
      "metadata": {
        "id": "28cf81aa-6278-479a-b55d-5ee222607f19"
      },
      "source": [
        "# Task 2"
      ]
    },
    {
      "cell_type": "code",
      "execution_count": null,
      "id": "b38a6e9c-e598-4d3d-989d-51023846592e",
      "metadata": {
        "id": "b38a6e9c-e598-4d3d-989d-51023846592e",
        "outputId": "038a6f0d-da22-41ec-db5c-931dcfd409a6"
      },
      "outputs": [
        {
          "name": "stdout",
          "output_type": "stream",
          "text": [
            "Python is a powerful programming language.\n"
          ]
        }
      ],
      "source": [
        "sentence= \"Python is a powerful programming language.\"\n",
        "print (sentence)"
      ]
    },
    {
      "cell_type": "code",
      "execution_count": null,
      "id": "762998c1",
      "metadata": {
        "id": "762998c1",
        "outputId": "022b4697-defd-4363-e0e5-9b7226fb30ec"
      },
      "outputs": [
        {
          "name": "stdout",
          "output_type": "stream",
          "text": [
            "42\n"
          ]
        }
      ],
      "source": [
        "#b\n",
        "# count=\n",
        "# for count_char in sentence:\n",
        "#     count+=count_char\n",
        "#     print(count_char)\n",
        "\n",
        "print(len(sentence))"
      ]
    },
    {
      "cell_type": "code",
      "execution_count": null,
      "id": "6c395403",
      "metadata": {
        "id": "6c395403",
        "outputId": "3eabf230-8970-4a26-d7b3-55efbed4d7ac"
      },
      "outputs": [
        {
          "data": {
            "text/plain": [
              "True"
            ]
          },
          "execution_count": 8,
          "metadata": {},
          "output_type": "execute_result"
        }
      ],
      "source": [
        "'Python' in sentence"
      ]
    },
    {
      "cell_type": "code",
      "execution_count": null,
      "id": "63ecc6af",
      "metadata": {
        "id": "63ecc6af",
        "outputId": "7096c998-203f-4df4-88dd-80be05c80612"
      },
      "outputs": [
        {
          "name": "stdout",
          "output_type": "stream",
          "text": [
            "Python is a versatile programming language.\n",
            "['Python', 'is', 'a', 'powerful', 'programming', 'language.']\n"
          ]
        }
      ],
      "source": [
        "print(sentence.replace(\"powerful\", \"versatile\"))\n",
        "\n",
        "word_list = sentence.split()\n",
        "print(word_list)"
      ]
    },
    {
      "cell_type": "markdown",
      "id": "712723be-8313-4853-a62f-2513fce26dc3",
      "metadata": {
        "id": "712723be-8313-4853-a62f-2513fce26dc3"
      },
      "source": [
        "# Task 3"
      ]
    },
    {
      "cell_type": "code",
      "execution_count": null,
      "id": "cc12ee3b-a9cc-4eb8-aad9-5b57d992f5b8",
      "metadata": {
        "id": "cc12ee3b-a9cc-4eb8-aad9-5b57d992f5b8",
        "outputId": "4800d1ac-bf5c-4a72-c7e1-6f748ef24a5e"
      },
      "outputs": [
        {
          "name": "stdout",
          "output_type": "stream",
          "text": [
            "area is:  17.875 msqr\n",
            "Temperature in Fahrenheit: 68.0 f\n",
            "Area of the circle: 78.5\n"
          ]
        }
      ],
      "source": [
        "\n",
        "# Store width and height in variables\n",
        "width = 5.5\n",
        "height = 3.25\n",
        "\n",
        "# Calculate the area of the rectangle\n",
        "area = width * height\n",
        "\n",
        "# Print the area\n",
        "print(\"area is: \",area, \"msqr\")\n",
        "\n",
        "# b) Create a temperature variable in Celsius\n",
        "temperature_celsius = 20\n",
        "\n",
        "# Convert Celsius to Fahrenheit\n",
        "Fahrenheit = (temperature_celsius * 9/5) + 32\n",
        "\n",
        "# Print Fahrenheit temperature\n",
        "print(\"Temperature in Fahrenheit:\", Fahrenheit,'f')\n",
        "\n",
        "# Create a variable called radius and give it a value of 5\n",
        "radius = 5\n",
        "\n",
        "# Calculate the area of a circle with this radius\n",
        "area = 3.14 * radius ** 2\n",
        "\n",
        "# Print the area of the circle\n",
        "print(\"Area of the circle:\", area)\n"
      ]
    },
    {
      "cell_type": "markdown",
      "id": "f6e464a4-bd74-45e5-a08e-00cfd7db9cbb",
      "metadata": {
        "id": "f6e464a4-bd74-45e5-a08e-00cfd7db9cbb"
      },
      "source": [
        "# Task 4"
      ]
    },
    {
      "cell_type": "code",
      "execution_count": null,
      "id": "b42072ca-d3cd-425f-809e-d3e7912e26a9",
      "metadata": {
        "id": "b42072ca-d3cd-425f-809e-d3e7912e26a9",
        "outputId": "85a2e9b0-6267-48d1-f970-008a3bc5de18"
      },
      "outputs": [
        {
          "name": "stdout",
          "output_type": "stream",
          "text": [
            "list of fruits ['apple', 'banana', 'orange', 'grape', 'kiwi']\n",
            "list of veg ['carrot', 'lettuce', 'tomato', 'broccoli', 'spinach']\n",
            "groceries ['apple', 'banana', 'orange', 'grape', 'kiwi', 'carrot', 'lettuce', 'tomato', 'broccoli', 'spinach']\n",
            "Sorted groceries list: ['apple', 'banana', 'broccoli', 'carrot', 'grape', 'kiwi', 'lettuce', 'orange', 'spinach', 'tomato']\n",
            "['apple', 'broccoli', 'carrot', 'grape', 'kiwi', 'lettuce', 'orange', 'spinach', 'tomato']\n"
          ]
        }
      ],
      "source": [
        "\n",
        "fruits = [\"apple\", \"banana\", \"orange\", \"grape\", \"kiwi\"]\n",
        "print('list of fruits',fruits)\n",
        "\n",
        "vegetables = [\"carrot\", \"lettuce\", \"tomato\", \"broccoli\", \"spinach\"]\n",
        "print('list of veg',vegetables)\n",
        "\n",
        "groceries = fruits + vegetables\n",
        "print('groceries',groceries)\n",
        "\n",
        "groceries.sort()\n",
        "print(\"Sorted groceries list:\", groceries)\n",
        "\n",
        "\n",
        "groceries.remove(\"banana\")\n",
        "print(groceries)"
      ]
    },
    {
      "cell_type": "markdown",
      "id": "0eaf2b71-b715-439e-a6fb-544c40cfe352",
      "metadata": {
        "id": "0eaf2b71-b715-439e-a6fb-544c40cfe352"
      },
      "source": [
        "# Tuple"
      ]
    },
    {
      "cell_type": "code",
      "execution_count": null,
      "id": "87ceeac2-14d3-4061-801f-7f28d9765b73",
      "metadata": {
        "id": "87ceeac2-14d3-4061-801f-7f28d9765b73",
        "outputId": "421798df-3f02-4315-f974-bfea8d8371bf"
      },
      "outputs": [
        {
          "name": "stdout",
          "output_type": "stream",
          "text": [
            "colours ('blue', 'black', 'green')\n",
            "black\n",
            "combined_tuple ('blue', 'black', 'green', 'Jan', 'Feb', 'March')\n"
          ]
        }
      ],
      "source": [
        "\n",
        "colors = ('blue', 'black', 'green')\n",
        "print('colours',colors)\n",
        "\n",
        "print(colors[1])\n",
        "\n",
        "months = ('Jan', 'Feb', 'March')\n",
        "\n",
        "combined_tuple = colors + months\n",
        "\n",
        "print('combined_tuple',combined_tuple)"
      ]
    },
    {
      "cell_type": "markdown",
      "id": "0669e698",
      "metadata": {
        "id": "0669e698"
      },
      "source": [
        "# The END"
      ]
    }
  ],
  "metadata": {
    "kernelspec": {
      "display_name": "Python 3 (ipykernel)",
      "language": "python",
      "name": "python3"
    },
    "language_info": {
      "codemirror_mode": {
        "name": "ipython",
        "version": 3
      },
      "file_extension": ".py",
      "mimetype": "text/x-python",
      "name": "python",
      "nbconvert_exporter": "python",
      "pygments_lexer": "ipython3",
      "version": "3.11.3"
    },
    "colab": {
      "provenance": []
    }
  },
  "nbformat": 4,
  "nbformat_minor": 5
}