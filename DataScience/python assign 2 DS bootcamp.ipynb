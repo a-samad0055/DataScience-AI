{
 "cells": [
  {
   "cell_type": "markdown",
   "id": "fdc0a261",
   "metadata": {},
   "source": [
    "#  DS & AI python Assign 2 by Abdul Samad"
   ]
  },
  {
   "cell_type": "markdown",
   "id": "d906b3a7",
   "metadata": {},
   "source": [
    "### Task 1"
   ]
  },
  {
   "cell_type": "code",
   "execution_count": 26,
   "id": "27e2a7bd",
   "metadata": {},
   "outputs": [
    {
     "name": "stdout",
     "output_type": "stream",
     "text": [
      "55\n"
     ]
    }
   ],
   "source": [
    "# Question 1\n",
    "total = 0\n",
    "for number in range(1, 11):\n",
    "    total += number\n",
    "print(total)"
   ]
  },
  {
   "cell_type": "code",
   "execution_count": 27,
   "id": "3d5a76c5",
   "metadata": {},
   "outputs": [
    {
     "name": "stdout",
     "output_type": "stream",
     "text": [
      "Pandas\n",
      "Numpy\n",
      "Python\n"
     ]
    }
   ],
   "source": [
    "# Question 2\n",
    "my_list = [\"Python\", \"Numpy\", \"Pandas\"]\n",
    "for item in reversed(my_list):\n",
    "    print(item)"
   ]
  },
  {
   "cell_type": "markdown",
   "id": "df86714a",
   "metadata": {},
   "source": [
    "### Task 2"
   ]
  },
  {
   "cell_type": "code",
   "execution_count": 28,
   "id": "817bae29",
   "metadata": {},
   "outputs": [
    {
     "name": "stdout",
     "output_type": "stream",
     "text": [
      "Guess the number: 3\n",
      "You got it!\n"
     ]
    }
   ],
   "source": [
    "# Question 1\n",
    "secret_number = 3 \n",
    "while True:\n",
    "    guess = int(input(\"Guess the number: \"))\n",
    "    if guess == secret_number:\n",
    "        print(\"You got it!\")\n",
    "        break"
   ]
  },
  {
   "cell_type": "code",
   "execution_count": 29,
   "id": "8ca2a899",
   "metadata": {},
   "outputs": [
    {
     "name": "stdout",
     "output_type": "stream",
     "text": [
      "Enter a value (or 'done'): done\n",
      "[]\n"
     ]
    }
   ],
   "source": [
    "# Question 2\n",
    "user_list = []\n",
    "while True:\n",
    "    user_input = input(\"Enter a value (or 'done'): \")\n",
    "    if user_input == \"done\":\n",
    "        break\n",
    "    user_list.append(user_input)\n",
    "print(user_list) "
   ]
  },
  {
   "cell_type": "markdown",
   "id": "bdfe2f4b",
   "metadata": {},
   "source": [
    "### Task 3"
   ]
  },
  {
   "cell_type": "code",
   "execution_count": 25,
   "id": "23ce5134",
   "metadata": {},
   "outputs": [
    {
     "name": "stdout",
     "output_type": "stream",
     "text": [
      "2\n",
      "4\n",
      "6\n",
      "8\n",
      "10\n",
      "12\n",
      "14\n",
      "16\n",
      "18\n",
      "20\n"
     ]
    }
   ],
   "source": [
    "# Question 1\n",
    "def print_even_numbers():\n",
    "    for num in range(1, 21):\n",
    "        if num % 2 == 0:\n",
    "            print(num)\n",
    "# print ('even',print_even_numbers())\n",
    "print_even_numbers()"
   ]
  },
  {
   "cell_type": "code",
   "execution_count": 24,
   "id": "96bae4dc",
   "metadata": {},
   "outputs": [
    {
     "data": {
      "text/plain": [
       "2"
      ]
     },
     "execution_count": 24,
     "metadata": {},
     "output_type": "execute_result"
    }
   ],
   "source": [
    "# Question 2\n",
    "my_list=[1,3,5,2, 5,0]\n",
    "number=5\n",
    "def count_occurrences(my_list, number):\n",
    "    count = 0\n",
    "    for item in my_list:\n",
    "        if item == number:\n",
    "            count += 1\n",
    "    return count\n",
    "count_occurrences(my_list, number)"
   ]
  },
  {
   "cell_type": "code",
   "execution_count": 23,
   "id": "e70bf99c",
   "metadata": {},
   "outputs": [
    {
     "data": {
      "text/plain": [
       "49"
      ]
     },
     "execution_count": 23,
     "metadata": {},
     "output_type": "execute_result"
    }
   ],
   "source": [
    "# Question 3\n",
    "num1=7\n",
    "num2=7\n",
    "operation='multiply'\n",
    "def calculator(num1, num2, operation):\n",
    "    if operation == \"add\":\n",
    "        return num1 + num2\n",
    "    elif operation == \"subtract\":\n",
    "        return num1 - num2\n",
    "    elif operation == \"multiply\":\n",
    "        return num1 * num2\n",
    "    elif operation == \"divide\":\n",
    "        return num1 / num2\n",
    "calculator(num1, num2, operation)   "
   ]
  },
  {
   "cell_type": "code",
   "execution_count": 22,
   "id": "d9a59cb9",
   "metadata": {},
   "outputs": [
    {
     "data": {
      "text/plain": [
       "919"
      ]
     },
     "execution_count": 22,
     "metadata": {},
     "output_type": "execute_result"
    }
   ],
   "source": [
    "# Question 4\n",
    "numbers=[66,0,34,67,5,89,919]\n",
    "def find_maximum(numbers):\n",
    "    max_value = numbers[0]\n",
    "    for num in numbers:\n",
    "        if num > max_value:\n",
    "            max_value = num\n",
    "    return max_value \n",
    "find_maximum(numbers)"
   ]
  },
  {
   "cell_type": "code",
   "execution_count": 21,
   "id": "955e6c3d",
   "metadata": {},
   "outputs": [
    {
     "data": {
      "text/plain": [
       "[66, 0, 34]"
      ]
     },
     "execution_count": 21,
     "metadata": {},
     "output_type": "execute_result"
    }
   ],
   "source": [
    "# Question 5\n",
    "multiply = lambda x, y: x * y\n",
    "\n",
    "# Question 06\n",
    "def filter_even_numbers(numbers):\n",
    "    even_list = []\n",
    "    for num in numbers:\n",
    "        if num % 2 == 0:\n",
    "            even_list.append(num)\n",
    "    return even_list\n",
    "filter_even_numbers(numbers)"
   ]
  },
  {
   "cell_type": "markdown",
   "id": "0a587c98",
   "metadata": {},
   "source": [
    "# END"
   ]
  }
 ],
 "metadata": {
  "kernelspec": {
   "display_name": "Python 3 (ipykernel)",
   "language": "python",
   "name": "python3"
  },
  "language_info": {
   "codemirror_mode": {
    "name": "ipython",
    "version": 3
   },
   "file_extension": ".py",
   "mimetype": "text/x-python",
   "name": "python",
   "nbconvert_exporter": "python",
   "pygments_lexer": "ipython3",
   "version": "3.10.13"
  }
 },
 "nbformat": 4,
 "nbformat_minor": 5
}
